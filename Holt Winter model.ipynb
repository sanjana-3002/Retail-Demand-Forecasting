{
 "cells": [
  {
   "cell_type": "markdown",
   "id": "3dafcc9e",
   "metadata": {},
   "source": [
    "# Without outlier detection"
   ]
  },
  {
   "cell_type": "code",
   "execution_count": null,
   "id": "b8365a57",
   "metadata": {},
   "outputs": [],
   "source": [
    "import numpy as np\n",
    "import pandas as pd\n",
    "import matplotlib.pyplot as plt\n",
    "import seaborn as sns\n",
    "from statsmodels.tsa.seasonal import seasonal_decompose \n",
    "from statsmodels.tsa.holtwinters import SimpleExpSmoothing\n",
    "from statsmodels.tsa.holtwinters import ExponentialSmoothing\n",
    "from statsmodels.tsa.api import ExponentialSmoothing, SimpleExpSmoothing, Holt\n",
    "from statsmodels.graphics.tsaplots import plot_acf, plot_pacf\n",
    "%matplotlib inline"
   ]
  },
  {
   "cell_type": "code",
   "execution_count": null,
   "id": "9fd108c8",
   "metadata": {},
   "outputs": [],
   "source": [
    "df = pd.read_excel(r'C:\\Users\\Shantanu Datta\\Downloads\\Spline Data.xlsx', parse_dates= True)\n",
    "df.head()\n",
    "df.info()\n",
    "df.set_index('Date', inplace = True)\n",
    "df.head()\n",
    "\n",
    "from statsmodels.tsa.stattools import adfuller\n",
    "print(\"Observations of Dickey-fuller test\")\n",
    "dftest = adfuller(df['Sales'],autolag='AIC')\n",
    "dfoutput=pd.Series(dftest[0:4],index=['Test Statistic','p-value','#lags used','number of observations used'])\n",
    "for key,value in dftest[4].items():\n",
    "    dfoutput['critical value (%s)'%key]= value\n",
    "print(dfoutput)\n",
    "\n",
    "train, test = df.iloc[:759, 0], df.iloc[759:, 0]\n",
    "model = ExponentialSmoothing(train, trend='add', seasonal='add', seasonal_periods=52, damped_trend=True)\n",
    "hw_model = model.fit(optimized=True, remove_bias=False)\n",
    "pred = hw_model.predict(start=test.index[0], end=test.index[-1])\n",
    "\n",
    "plt.figure(figsize=(12,8))\n",
    "plt.plot(train.index, train, label='Train')\n",
    "plt.plot(test.index, test, label='Test')\n",
    "plt.plot(pred.index, pred, label='Holt-Winters')\n",
    "plt.ylabel('Sales')\n",
    "plt.legend(loc='best')\n",
    "\n",
    "hw_model.summary()\n",
    "\n",
    "from sklearn.metrics import mean_absolute_percentage_error\n",
    "mape = (mean_absolute_percentage_error(test,pred))\n",
    "print('MAPE = ' +str(mape))"
   ]
  },
  {
   "cell_type": "markdown",
   "id": "9ad280f2",
   "metadata": {},
   "source": [
    "# With outlier detection"
   ]
  },
  {
   "cell_type": "code",
   "execution_count": null,
   "id": "a8deb15a",
   "metadata": {},
   "outputs": [],
   "source": [
    "df = pd.read_csv(r'C:\\Users\\Shantanu Datta\\Downloads\\trimmed_spline.csv', parse_dates= True)\n",
    "df.head()\n",
    "df.info()\n",
    "df['Date'] = pd.to_datetime(df['Date'])\n",
    "df.set_index('Date', inplace = True)\n",
    "\n",
    "from statsmodels.tsa.stattools import adfuller\n",
    "print(\"Observations of Dickey-fuller test\")\n",
    "dftest = adfuller(df['Sales'],autolag='AIC')\n",
    "dfoutput=pd.Series(dftest[0:4],index=['Test Statistic','p-value','#lags used','number of observations used'])\n",
    "for key,value in dftest[4].items():\n",
    "    dfoutput['critical value (%s)'%key]= value\n",
    "print(dfoutput)\n",
    "\n",
    "train, test = df.iloc[:759, 0], df.iloc[759:, 0]\n",
    "model = ExponentialSmoothing(train, trend='add', seasonal='add', seasonal_periods=52, damped_trend=True)\n",
    "hw_model = model.fit(optimized=True, remove_bias=False)\n",
    "pred = hw_model.predict(start=test.index[0], end=test.index[-1])\n",
    "\n",
    "plt.figure(figsize=(12,8))\n",
    "plt.plot(train.index, train, label='Train')\n",
    "plt.plot(test.index, test, label='Test')\n",
    "plt.plot(pred.index, pred, label='Holt-Winters')\n",
    "plt.legend(loc='best')\n",
    "plt.ylabel('Sales')\n",
    "\n",
    "hw_model.summary()\n",
    "\n",
    "from sklearn.metrics import mean_absolute_percentage_error\n",
    "mape = (mean_absolute_percentage_error(test,pred))\n",
    "print('MAPE = ' +str(mape))"
   ]
  },
  {
   "cell_type": "markdown",
   "id": "261c5abb",
   "metadata": {},
   "source": [
    "# Online "
   ]
  },
  {
   "cell_type": "code",
   "execution_count": null,
   "id": "8987348e",
   "metadata": {},
   "outputs": [],
   "source": [
    "df = pd.read_excel(r'C:\\Users\\Shantanu Datta\\Downloads\\online_spline.xlsx', parse_dates= True)\n",
    "df.head()\n",
    "df.info()\n",
    "df.set_index('Date', inplace = True)\n",
    "\n",
    "from statsmodels.tsa.stattools import adfuller\n",
    "print(\"Observations of Dickey-fuller test\")\n",
    "dftest = adfuller(df['Sales'],autolag='AIC')\n",
    "dfoutput=pd.Series(dftest[0:4],index=['Test Statistic','p-value','#lags used','number of observations used'])\n",
    "for key,value in dftest[4].items():\n",
    "    dfoutput['critical value (%s)'%key]= value\n",
    "print(dfoutput)\n",
    "\n",
    "train, test = df.iloc[:442, 0], df.iloc[442:, 0]\n",
    "model = ExponentialSmoothing(train, trend='add', seasonal='add', seasonal_periods=52, damped_trend=True)\n",
    "hw_model = model.fit(optimized=True, remove_bias=False)\n",
    "pred = hw_model.predict(start=test.index[0], end=test.index[-1])\n",
    "\n",
    "plt.figure(figsize=(12,8))\n",
    "plt.plot(train.index, train, label='Train')\n",
    "plt.plot(test.index, test, label='Test')\n",
    "plt.plot(pred.index, pred, label='Holt-Winters')\n",
    "plt.legend(loc='best')\n",
    "plt.ylabel('Sales')\n",
    "\n",
    "hw_model.summary()\n",
    "\n",
    "from sklearn.metrics import mean_absolute_percentage_error\n",
    "mape = (mean_absolute_percentage_error(test,pred))\n",
    "print('MAPE = ' +str(mape))"
   ]
  }
 ],
 "metadata": {
  "kernelspec": {
   "display_name": "Python 3 (ipykernel)",
   "language": "python",
   "name": "python3"
  },
  "language_info": {
   "codemirror_mode": {
    "name": "ipython",
    "version": 3
   },
   "file_extension": ".py",
   "mimetype": "text/x-python",
   "name": "python",
   "nbconvert_exporter": "python",
   "pygments_lexer": "ipython3",
   "version": "3.9.13"
  }
 },
 "nbformat": 4,
 "nbformat_minor": 5
}
